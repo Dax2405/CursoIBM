{
  "metadata": {
    "language_info": {
      "codemirror_mode": {
        "name": "python",
        "version": 3
      },
      "file_extension": ".py",
      "mimetype": "text/x-python",
      "name": "python",
      "nbconvert_exporter": "python",
      "pygments_lexer": "ipython3",
      "version": "3.8"
    },
    "kernelspec": {
      "name": "python",
      "display_name": "Pyolite",
      "language": "python"
    }
  },
  "nbformat_minor": 4,
  "nbformat": 4,
  "cells": [
    {
      "cell_type": "markdown",
      "source": "<h1>My Jupyter Notebook on IBM Watson Studio</h1>",
      "metadata": {}
    },
    {
      "cell_type": "markdown",
      "source": "<b>Dax Navarrete</b>\n\nActually I'm a high scholl student then I'm going to study Computer Science in the university and I also wanna learn Data Science and AI\n\n",
      "metadata": {}
    },
    {
      "cell_type": "markdown",
      "source": "<em>Im interested in Data Science because I think the Big Data and the AI are the future of the world and I wanna learn to make new things</em>",
      "metadata": {}
    },
    {
      "cell_type": "markdown",
      "source": "<h3>The next code it's supposed to create a variable with a greeting and show it with the print function</h3>",
      "metadata": {
        "tags": []
      }
    },
    {
      "cell_type": "code",
      "source": "greeting = \"Hi mate\"\n\nprint(greeting)",
      "metadata": {
        "trusted": true
      },
      "execution_count": 2,
      "outputs": [
        {
          "name": "stdout",
          "text": "Hi mate\n",
          "output_type": "stream"
        }
      ]
    },
    {
      "cell_type": "markdown",
      "source": "\n<li>First</li>\n<li>Second</li>\n<li>Third</li>\n<li>Fourth</li>\n\n\n<a href=\"https://www.ibm.com/\">IBM page </a>\n\n<img src=\"https://www.zooplus.es/magazine/wp-content/uploads/2022/05/Cuanto-pesa-un-gato-2.jpeg\" >\n",
      "metadata": {}
    },
    {
      "cell_type": "code",
      "source": "",
      "metadata": {},
      "execution_count": null,
      "outputs": []
    }
  ]
}