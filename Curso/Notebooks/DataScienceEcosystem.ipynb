{
  "metadata": {
    "language_info": {
      "codemirror_mode": {
        "name": "python",
        "version": 3
      },
      "file_extension": ".py",
      "mimetype": "text/x-python",
      "name": "python",
      "nbconvert_exporter": "python",
      "pygments_lexer": "ipython3",
      "version": "3.8"
    },
    "kernelspec": {
      "name": "python",
      "display_name": "Pyolite",
      "language": "python"
    }
  },
  "nbformat_minor": 4,
  "nbformat": 4,
  "cells": [
    {
      "cell_type": "markdown",
      "source": "<h1>Data Science Tools and Ecosystem</h1>",
      "metadata": {}
    },
    {
      "cell_type": "markdown",
      "source": "In this notebook, Data Science Tools and Ecosystem are summarized.\n\n",
      "metadata": {}
    },
    {
      "cell_type": "markdown",
      "source": "Some of the popular languages that Data Scientists use are:\n\n<li>R</li>\n<li>Julia</li>\n<li>Java</li>\n<li>JavaScript</li>\n<li>SQL</li>\n<li>Scala</li>",
      "metadata": {}
    },
    {
      "cell_type": "markdown",
      "source": "Some of the commonly used libraries used by Data Scientists include:\n\n<li>Pandas</li>\n<li>NumPy</li>\n<li>Metaplotlib</li>\n<li>Seaborn</li>\n<li>ScikitLearn</li>\n<li>Keras</li>\n<li>TensorFlow</li>\n<li>PyTorch</li>\n\n\n",
      "metadata": {}
    },
    {
      "cell_type": "markdown",
      "source": "| Data Science Tools |\n| --- |\n| Jupyter |\n| RStudio |\n| Spyder |",
      "metadata": {}
    },
    {
      "cell_type": "markdown",
      "source": "<h3>Below are a few examples of evaluating arithmetic expressions in Python</h3>",
      "metadata": {
        "tags": []
      }
    },
    {
      "cell_type": "code",
      "source": "# This a simple arithmetic expression to mutiply then add integers\n\nprint((3*4)+5)\n",
      "metadata": {
        "trusted": true
      },
      "execution_count": 33,
      "outputs": [
        {
          "name": "stdout",
          "text": "17\n",
          "output_type": "stream"
        }
      ]
    },
    {
      "cell_type": "code",
      "source": " # This will convert 200 minutes to hours by diving by 60\n    \nprint(200/60)    ",
      "metadata": {
        "trusted": true
      },
      "execution_count": 30,
      "outputs": [
        {
          "name": "stdout",
          "text": "3.3333333333333335\n",
          "output_type": "stream"
        }
      ]
    },
    {
      "cell_type": "markdown",
      "source": "<h3><strong>Objectives:</strong></h3>\n\n<li>List popular languages for Data Science</li>\n<li>List popular libraries for Data Science</li>\n<li>evaluate arithmetic expressions in Python</li>",
      "metadata": {}
    },
    {
      "cell_type": "markdown",
      "source": "<h2>Author</h2>\nDax Navarrete",
      "metadata": {}
    },
    {
      "cell_type": "markdown",
      "source": "|  | Data Management | Data Integration and Transformation | Data Visualization | Model Deployment | Model Monitoring and Assessment | Code Asset Management | Development Enviroments | Execution Environments | Fully Integrated Visual Tools |\n| --- | --- | --- | --- | --- |  --- | --- | --- | --- | --- |\n| Open Source | MySQL, PostgreSQL, MongoDB, Apache CouchDB | Apache Airflow, Kubeflow, Spark SQl | Hue, Kibana | PredictionIO, Seldon, mleap | Model DB, Prometheus | git, GitHub, GitLab, Apache Atlas, Egeria | Jupyter, Jupyter Lab, Zeppeling, RStudio, Spyder | ApacheSpark, Flink | KNIME, Orange |\n| Commercial | Oracle DataBase, SQLServer Microsoft, IBM DB2 | Informatica, IBM info Sphere DataStage, IBM Watson studio Desktop | Tableau, PowerBi, IMB Cognos Analitycs, IBM Watson studio Desktop | SPSS, SAS, IBM Watson studio Desktop | IBM SPSS collaboration and Deployment Services | Informatica, IBM infosphere | IBM Watson Studio Desktop | | Watson Studio, H2O.ai |",
      "metadata": {}
    },
    {
      "cell_type": "code",
      "source": "",
      "metadata": {},
      "execution_count": null,
      "outputs": []
    }
  ]
}